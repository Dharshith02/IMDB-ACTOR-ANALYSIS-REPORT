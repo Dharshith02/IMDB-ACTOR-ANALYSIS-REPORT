{
 "cells": [
  {
   "cell_type": "code",
   "execution_count": 1,
   "id": "a209066a",
   "metadata": {
    "scrolled": true
   },
   "outputs": [
    {
     "name": "stdout",
     "output_type": "stream",
     "text": [
      "Requirement already satisfied: requests in c:\\users\\sanju\\anaconda3\\lib\\site-packages (2.28.1)\n",
      "Requirement already satisfied: charset-normalizer<3,>=2 in c:\\users\\sanju\\anaconda3\\lib\\site-packages (from requests) (2.0.4)\n",
      "Requirement already satisfied: certifi>=2017.4.17 in c:\\users\\sanju\\anaconda3\\lib\\site-packages (from requests) (2022.12.7)\n",
      "Requirement already satisfied: idna<4,>=2.5 in c:\\users\\sanju\\anaconda3\\lib\\site-packages (from requests) (3.4)\n",
      "Requirement already satisfied: urllib3<1.27,>=1.21.1 in c:\\users\\sanju\\anaconda3\\lib\\site-packages (from requests) (1.26.14)\n",
      "Note: you may need to restart the kernel to use updated packages.\n"
     ]
    }
   ],
   "source": [
    "pip install requests\n"
   ]
  },
  {
   "cell_type": "code",
   "execution_count": 2,
   "id": "72b819be",
   "metadata": {},
   "outputs": [
    {
     "name": "stdout",
     "output_type": "stream",
     "text": [
      "Requirement already satisfied: bs4 in c:\\users\\sanju\\anaconda3\\lib\\site-packages (0.0.1)\n",
      "Requirement already satisfied: beautifulsoup4 in c:\\users\\sanju\\anaconda3\\lib\\site-packages (from bs4) (4.11.1)\n",
      "Requirement already satisfied: soupsieve>1.2 in c:\\users\\sanju\\anaconda3\\lib\\site-packages (from beautifulsoup4->bs4) (2.3.2.post1)\n",
      "Note: you may need to restart the kernel to use updated packages.\n"
     ]
    }
   ],
   "source": [
    "pip install bs4"
   ]
  },
  {
   "cell_type": "code",
   "execution_count": 3,
   "id": "02899be3",
   "metadata": {},
   "outputs": [],
   "source": [
    "import requests\n",
    "import bs4\n",
    "import csv\n",
    "\n"
   ]
  },
  {
   "cell_type": "code",
   "execution_count": 4,
   "id": "7863e36b",
   "metadata": {},
   "outputs": [],
   "source": [
    "res = requests.get(\"https://www.imdb.com/list/ls025868269/\")"
   ]
  },
  {
   "cell_type": "code",
   "execution_count": 5,
   "id": "49b68721",
   "metadata": {},
   "outputs": [],
   "source": [
    "soup = bs4.BeautifulSoup(res.text,\"lxml\")"
   ]
  },
  {
   "cell_type": "code",
   "execution_count": 6,
   "id": "eba3b484",
   "metadata": {},
   "outputs": [],
   "source": [
    "head1= soup.select(\".lister-item-header\")\n"
   ]
  },
  {
   "cell_type": "code",
   "execution_count": 7,
   "id": "4b37d2a2",
   "metadata": {},
   "outputs": [
    {
     "name": "stdout",
     "output_type": "stream",
     "text": [
      "[<h3 class=\"lister-item-header\">\n",
      "<span class=\"lister-item-index unbold text-primary\">1.</span>\n",
      "<a href=\"/title/tt9477520/\">Asuran</a>\n",
      "<span class=\"lister-item-year text-muted unbold\">(2019)</span>\n",
      "</h3>, <h3 class=\"lister-item-header\">\n",
      "<span class=\"lister-item-index unbold text-primary\">2.</span>\n",
      "<a href=\"/title/tt1821317/\">Aadukalam</a>\n",
      "<span class=\"lister-item-year text-muted unbold\">(2011)</span>\n",
      "</h3>, <h3 class=\"lister-item-header\">\n",
      "<span class=\"lister-item-index unbold text-primary\">3.</span>\n",
      "<a href=\"/title/tt5959980/\">Vada Chennai</a>\n",
      "<span class=\"lister-item-year text-muted unbold\">(2018)</span>\n",
      "</h3>, <h3 class=\"lister-item-header\">\n",
      "<span class=\"lister-item-index unbold text-primary\">4.</span>\n",
      "<a href=\"/title/tt3822396/\">Velaiilla Pattadhari</a>\n",
      "<span class=\"lister-item-year text-muted unbold\">(2014)</span>\n",
      "</h3>, <h3 class=\"lister-item-header\">\n",
      "<span class=\"lister-item-index unbold text-primary\">5.</span>\n",
      "<a href=\"/title/tt0459516/\">Pudhu Pettai</a>\n",
      "<span class=\"lister-item-year text-muted unbold\">(2006)</span>\n",
      "</h3>, <h3 class=\"lister-item-header\">\n",
      "<span class=\"lister-item-index unbold text-primary\">6.</span>\n",
      "<a href=\"/title/tt2359810/\">Raanjhanaa</a>\n",
      "<span class=\"lister-item-year text-muted unbold\">(2013)</span>\n",
      "</h3>, <h3 class=\"lister-item-header\">\n",
      "<span class=\"lister-item-index unbold text-primary\">7.</span>\n",
      "<a href=\"/title/tt11581174/\">Karnan</a>\n",
      "<span class=\"lister-item-year text-muted unbold\">(2021)</span>\n",
      "</h3>, <h3 class=\"lister-item-header\">\n",
      "<span class=\"lister-item-index unbold text-primary\">8.</span>\n",
      "<a href=\"/title/tt11772746/\">Thiruchitrambalam</a>\n",
      "<span class=\"lister-item-year text-muted unbold\">(2022)</span>\n",
      "</h3>, <h3 class=\"lister-item-header\">\n",
      "<span class=\"lister-item-index unbold text-primary\">9.</span>\n",
      "<a href=\"/title/tt0375880/\">Kaadhal Konden</a>\n",
      "<span class=\"lister-item-year text-muted unbold\">(2003)</span>\n",
      "</h3>, <h3 class=\"lister-item-header\">\n",
      "<span class=\"lister-item-index unbold text-primary\">10.</span>\n",
      "<a href=\"/title/tt2072167/\">Mayakkam Enna</a>\n",
      "<span class=\"lister-item-year text-muted unbold\">(2011)</span>\n",
      "</h3>, <h3 class=\"lister-item-header\">\n",
      "<span class=\"lister-item-index unbold text-primary\">11.</span>\n",
      "<a href=\"/title/tt2123129/\">3</a>\n",
      "<span class=\"lister-item-year text-muted unbold\">(I) (2012)</span>\n",
      "</h3>, <h3 class=\"lister-item-header\">\n",
      "<span class=\"lister-item-index unbold text-primary\">12.</span>\n",
      "<a href=\"/title/tt2793930/\">Maryan</a>\n",
      "<span class=\"lister-item-year text-muted unbold\">(2013)</span>\n",
      "</h3>, <h3 class=\"lister-item-header\">\n",
      "<span class=\"lister-item-index unbold text-primary\">13.</span>\n",
      "<a href=\"/title/tt2355791/\">Polladhavan</a>\n",
      "<span class=\"lister-item-year text-muted unbold\">(2007)</span>\n",
      "</h3>, <h3 class=\"lister-item-header\">\n",
      "<span class=\"lister-item-index unbold text-primary\">14.</span>\n",
      "<a href=\"/title/tt15427980/\">Vaathi</a>\n",
      "<span class=\"lister-item-year text-muted unbold\">(2023)</span>\n",
      "</h3>, <h3 class=\"lister-item-header\">\n",
      "<span class=\"lister-item-index unbold text-primary\">15.</span>\n",
      "<a href=\"/title/tt6734886/\">Power Paandi</a>\n",
      "<span class=\"lister-item-year text-muted unbold\">(2017)</span>\n",
      "</h3>, <h3 class=\"lister-item-header\">\n",
      "<span class=\"lister-item-index unbold text-primary\">16.</span>\n",
      "<a href=\"/title/tt1388444/\">Yaaradi Nee Mohini</a>\n",
      "<span class=\"lister-item-year text-muted unbold\">(2008)</span>\n",
      "</h3>, <h3 class=\"lister-item-header\">\n",
      "<span class=\"lister-item-index unbold text-primary\">17.</span>\n",
      "<a href=\"/title/tt4859246/\">Maari</a>\n",
      "<span class=\"lister-item-year text-muted unbold\">(2015)</span>\n",
      "</h3>, <h3 class=\"lister-item-header\">\n",
      "<span class=\"lister-item-index unbold text-primary\">18.</span>\n",
      "<a href=\"/title/tt9766332/\">Atrangi Re</a>\n",
      "<span class=\"lister-item-year text-muted unbold\">(2021)</span>\n",
      "</h3>, <h3 class=\"lister-item-header\">\n",
      "<span class=\"lister-item-index unbold text-primary\">19.</span>\n",
      "<a href=\"/title/tt5556784/\">Kodi</a>\n",
      "<span class=\"lister-item-year text-muted unbold\">(2016)</span>\n",
      "</h3>, <h3 class=\"lister-item-header\">\n",
      "<span class=\"lister-item-index unbold text-primary\">20.</span>\n",
      "<a href=\"/title/tt2002868/\">Anegan</a>\n",
      "<span class=\"lister-item-year text-muted unbold\">(2015)</span>\n",
      "</h3>, <h3 class=\"lister-item-header\">\n",
      "<span class=\"lister-item-index unbold text-primary\">21.</span>\n",
      "<a href=\"/title/tt3836958/\">Shamitabh</a>\n",
      "<span class=\"lister-item-year text-muted unbold\">(2015)</span>\n",
      "</h3>, <h3 class=\"lister-item-header\">\n",
      "<span class=\"lister-item-index unbold text-primary\">22.</span>\n",
      "<a href=\"/title/tt7510798/\">Maari 2</a>\n",
      "<span class=\"lister-item-year text-muted unbold\">(2018)</span>\n",
      "</h3>, <h3 class=\"lister-item-header\">\n",
      "<span class=\"lister-item-index unbold text-primary\">23.</span>\n",
      "<a href=\"/title/tt10750020/\">Pattas</a>\n",
      "<span class=\"lister-item-year text-muted unbold\">(2020)</span>\n",
      "</h3>, <h3 class=\"lister-item-header\">\n",
      "<span class=\"lister-item-index unbold text-primary\">24.</span>\n",
      "<a href=\"/title/tt5124096/\">Thanga Magan</a>\n",
      "<span class=\"lister-item-year text-muted unbold\">(2015)</span>\n",
      "</h3>, <h3 class=\"lister-item-header\">\n",
      "<span class=\"lister-item-index unbold text-primary\">25.</span>\n",
      "<a href=\"/title/tt7019812/\">Velaiilla Pattadhari 2</a>\n",
      "<span class=\"lister-item-year text-muted unbold\">(2017)</span>\n",
      "</h3>]\n"
     ]
    }
   ],
   "source": [
    "print(head1)"
   ]
  },
  {
   "cell_type": "code",
   "execution_count": 8,
   "id": "953096d8",
   "metadata": {},
   "outputs": [],
   "source": [
    "Name,Year =[],[]\n",
    "for i in soup.select('h3 > a'):\n",
    "    Name.append(i.text)\n",
    "for i in range(len(head1)):\n",
    "    Year.append(head1[i].select(\"span\")[1].text)"
   ]
  },
  {
   "cell_type": "code",
   "execution_count": 9,
   "id": "412355fc",
   "metadata": {},
   "outputs": [
    {
     "name": "stdout",
     "output_type": "stream",
     "text": [
      "['Asuran', 'Aadukalam', 'Vada Chennai', 'Velaiilla Pattadhari', 'Pudhu Pettai', 'Raanjhanaa', 'Karnan', 'Thiruchitrambalam', 'Kaadhal Konden', 'Mayakkam Enna', '3', 'Maryan', 'Polladhavan', 'Vaathi', 'Power Paandi', 'Yaaradi Nee Mohini', 'Maari', 'Atrangi Re', 'Kodi', 'Anegan', 'Shamitabh', 'Maari 2', 'Pattas', 'Thanga Magan', 'Velaiilla Pattadhari 2']\n"
     ]
    }
   ],
   "source": [
    "print(Name)"
   ]
  },
  {
   "cell_type": "code",
   "execution_count": 10,
   "id": "e5f5e771",
   "metadata": {},
   "outputs": [
    {
     "name": "stdout",
     "output_type": "stream",
     "text": [
      "['(2019)', '(2011)', '(2018)', '(2014)', '(2006)', '(2013)', '(2021)', '(2022)', '(2003)', '(2011)', '(I) (2012)', '(2013)', '(2007)', '(2023)', '(2017)', '(2008)', '(2015)', '(2021)', '(2016)', '(2015)', '(2015)', '(2018)', '(2020)', '(2015)', '(2017)']\n"
     ]
    }
   ],
   "source": [
    "print(Year)"
   ]
  },
  {
   "cell_type": "code",
   "execution_count": 11,
   "id": "3f0d50e4",
   "metadata": {},
   "outputs": [],
   "source": [
    "head2= soup.select(\".runtime\")"
   ]
  },
  {
   "cell_type": "code",
   "execution_count": 12,
   "id": "c825ad55",
   "metadata": {},
   "outputs": [
    {
     "name": "stdout",
     "output_type": "stream",
     "text": [
      "['141 min', '160 min', '164 min', '133 min', '168 min', '140 min', '158 min', '131 min', '150 min', '145 min', '145 min', '150 min', '150 min', '139 min', '130 min', '174 min', '138 min', '138 min', '145 min', '154 min', '155 min', '143 min', '141 min', '122 min', '128 min']\n"
     ]
    }
   ],
   "source": [
    "runtime=[]\n",
    "for i in head2:\n",
    "    runtime.append(i.text)\n",
    "print(runtime)"
   ]
  },
  {
   "cell_type": "code",
   "execution_count": 13,
   "id": "781f8f14",
   "metadata": {},
   "outputs": [
    {
     "name": "stdout",
     "output_type": "stream",
     "text": [
      "8.4\n",
      "8.1\n",
      "8.4\n",
      "7.8\n",
      "8.5\n",
      "7.6\n",
      "8\n",
      "7.9\n",
      "8\n",
      "7.7\n",
      "7.4\n",
      "7.1\n",
      "7.7\n",
      "7.3\n",
      "7.4\n",
      "7.3\n",
      "6.3\n",
      "6.5\n",
      "6.7\n",
      "6.7\n",
      "6.7\n",
      "5.6\n",
      "5.6\n",
      "6\n",
      "5.4\n"
     ]
    }
   ],
   "source": [
    "rating=[]\n",
    "i=0\n",
    "while i < 575:\n",
    "    print(soup.select(\".ipl-rating-star__rating\")[i].text)\n",
    "    rating.append(soup.select(\".ipl-rating-star__rating\")[i].text)\n",
    "    i += 23"
   ]
  },
  {
   "cell_type": "code",
   "execution_count": 14,
   "id": "de3663b1",
   "metadata": {},
   "outputs": [
    {
     "name": "stdout",
     "output_type": "stream",
     "text": [
      "['8.4', '8.1', '8.4', '7.8', '8.5', '7.6', '8', '7.9', '8', '7.7', '7.4', '7.1', '7.7', '7.3', '7.4', '7.3', '6.3', '6.5', '6.7', '6.7', '6.7', '5.6', '5.6', '6', '5.4']\n"
     ]
    }
   ],
   "source": [
    "print(rating)"
   ]
  },
  {
   "cell_type": "code",
   "execution_count": 15,
   "id": "502ea295",
   "metadata": {},
   "outputs": [],
   "source": [
    "term = soup.select(\".genre\")"
   ]
  },
  {
   "cell_type": "code",
   "execution_count": 16,
   "id": "61650c46",
   "metadata": {},
   "outputs": [
    {
     "name": "stdout",
     "output_type": "stream",
     "text": [
      "['\\nAction, Drama            ']\n",
      "['\\nAction, Drama            ', '\\nAction, Drama, Romance            ']\n",
      "['\\nAction, Drama            ', '\\nAction, Drama, Romance            ', '\\nAction, Crime, Drama            ']\n",
      "['\\nAction, Drama            ', '\\nAction, Drama, Romance            ', '\\nAction, Crime, Drama            ', '\\nAction, Comedy, Drama            ']\n",
      "['\\nAction, Drama            ', '\\nAction, Drama, Romance            ', '\\nAction, Crime, Drama            ', '\\nAction, Comedy, Drama            ', '\\nAction, Crime, Drama            ']\n",
      "['\\nAction, Drama            ', '\\nAction, Drama, Romance            ', '\\nAction, Crime, Drama            ', '\\nAction, Comedy, Drama            ', '\\nAction, Crime, Drama            ', '\\nDrama, Romance            ']\n",
      "['\\nAction, Drama            ', '\\nAction, Drama, Romance            ', '\\nAction, Crime, Drama            ', '\\nAction, Comedy, Drama            ', '\\nAction, Crime, Drama            ', '\\nDrama, Romance            ', '\\nAction, Drama            ']\n",
      "['\\nAction, Drama            ', '\\nAction, Drama, Romance            ', '\\nAction, Crime, Drama            ', '\\nAction, Comedy, Drama            ', '\\nAction, Crime, Drama            ', '\\nDrama, Romance            ', '\\nAction, Drama            ', '\\nComedy, Drama, Musical            ']\n",
      "['\\nAction, Drama            ', '\\nAction, Drama, Romance            ', '\\nAction, Crime, Drama            ', '\\nAction, Comedy, Drama            ', '\\nAction, Crime, Drama            ', '\\nDrama, Romance            ', '\\nAction, Drama            ', '\\nComedy, Drama, Musical            ', '\\nDrama, Romance, Thriller            ']\n",
      "['\\nAction, Drama            ', '\\nAction, Drama, Romance            ', '\\nAction, Crime, Drama            ', '\\nAction, Comedy, Drama            ', '\\nAction, Crime, Drama            ', '\\nDrama, Romance            ', '\\nAction, Drama            ', '\\nComedy, Drama, Musical            ', '\\nDrama, Romance, Thriller            ', '\\nDrama, Romance            ']\n",
      "['\\nAction, Drama            ', '\\nAction, Drama, Romance            ', '\\nAction, Crime, Drama            ', '\\nAction, Comedy, Drama            ', '\\nAction, Crime, Drama            ', '\\nDrama, Romance            ', '\\nAction, Drama            ', '\\nComedy, Drama, Musical            ', '\\nDrama, Romance, Thriller            ', '\\nDrama, Romance            ', '\\nDrama, Mystery, Romance            ']\n",
      "['\\nAction, Drama            ', '\\nAction, Drama, Romance            ', '\\nAction, Crime, Drama            ', '\\nAction, Comedy, Drama            ', '\\nAction, Crime, Drama            ', '\\nDrama, Romance            ', '\\nAction, Drama            ', '\\nComedy, Drama, Musical            ', '\\nDrama, Romance, Thriller            ', '\\nDrama, Romance            ', '\\nDrama, Mystery, Romance            ', '\\nAction, Drama, Romance            ']\n",
      "['\\nAction, Drama            ', '\\nAction, Drama, Romance            ', '\\nAction, Crime, Drama            ', '\\nAction, Comedy, Drama            ', '\\nAction, Crime, Drama            ', '\\nDrama, Romance            ', '\\nAction, Drama            ', '\\nComedy, Drama, Musical            ', '\\nDrama, Romance, Thriller            ', '\\nDrama, Romance            ', '\\nDrama, Mystery, Romance            ', '\\nAction, Drama, Romance            ', '\\nAction, Crime, Drama            ']\n",
      "['\\nAction, Drama            ', '\\nAction, Drama, Romance            ', '\\nAction, Crime, Drama            ', '\\nAction, Comedy, Drama            ', '\\nAction, Crime, Drama            ', '\\nDrama, Romance            ', '\\nAction, Drama            ', '\\nComedy, Drama, Musical            ', '\\nDrama, Romance, Thriller            ', '\\nDrama, Romance            ', '\\nDrama, Mystery, Romance            ', '\\nAction, Drama, Romance            ', '\\nAction, Crime, Drama            ', '\\nAction, Drama            ']\n",
      "['\\nAction, Drama            ', '\\nAction, Drama, Romance            ', '\\nAction, Crime, Drama            ', '\\nAction, Comedy, Drama            ', '\\nAction, Crime, Drama            ', '\\nDrama, Romance            ', '\\nAction, Drama            ', '\\nComedy, Drama, Musical            ', '\\nDrama, Romance, Thriller            ', '\\nDrama, Romance            ', '\\nDrama, Mystery, Romance            ', '\\nAction, Drama, Romance            ', '\\nAction, Crime, Drama            ', '\\nAction, Drama            ', '\\nAction, Drama, Musical            ']\n",
      "['\\nAction, Drama            ', '\\nAction, Drama, Romance            ', '\\nAction, Crime, Drama            ', '\\nAction, Comedy, Drama            ', '\\nAction, Crime, Drama            ', '\\nDrama, Romance            ', '\\nAction, Drama            ', '\\nComedy, Drama, Musical            ', '\\nDrama, Romance, Thriller            ', '\\nDrama, Romance            ', '\\nDrama, Mystery, Romance            ', '\\nAction, Drama, Romance            ', '\\nAction, Crime, Drama            ', '\\nAction, Drama            ', '\\nAction, Drama, Musical            ', '\\nDrama, Romance            ']\n",
      "['\\nAction, Drama            ', '\\nAction, Drama, Romance            ', '\\nAction, Crime, Drama            ', '\\nAction, Comedy, Drama            ', '\\nAction, Crime, Drama            ', '\\nDrama, Romance            ', '\\nAction, Drama            ', '\\nComedy, Drama, Musical            ', '\\nDrama, Romance, Thriller            ', '\\nDrama, Romance            ', '\\nDrama, Mystery, Romance            ', '\\nAction, Drama, Romance            ', '\\nAction, Crime, Drama            ', '\\nAction, Drama            ', '\\nAction, Drama, Musical            ', '\\nDrama, Romance            ', '\\nAction, Comedy, Drama            ']\n",
      "['\\nAction, Drama            ', '\\nAction, Drama, Romance            ', '\\nAction, Crime, Drama            ', '\\nAction, Comedy, Drama            ', '\\nAction, Crime, Drama            ', '\\nDrama, Romance            ', '\\nAction, Drama            ', '\\nComedy, Drama, Musical            ', '\\nDrama, Romance, Thriller            ', '\\nDrama, Romance            ', '\\nDrama, Mystery, Romance            ', '\\nAction, Drama, Romance            ', '\\nAction, Crime, Drama            ', '\\nAction, Drama            ', '\\nAction, Drama, Musical            ', '\\nDrama, Romance            ', '\\nAction, Comedy, Drama            ', '\\nComedy, Drama, Fantasy            ']\n",
      "['\\nAction, Drama            ', '\\nAction, Drama, Romance            ', '\\nAction, Crime, Drama            ', '\\nAction, Comedy, Drama            ', '\\nAction, Crime, Drama            ', '\\nDrama, Romance            ', '\\nAction, Drama            ', '\\nComedy, Drama, Musical            ', '\\nDrama, Romance, Thriller            ', '\\nDrama, Romance            ', '\\nDrama, Mystery, Romance            ', '\\nAction, Drama, Romance            ', '\\nAction, Crime, Drama            ', '\\nAction, Drama            ', '\\nAction, Drama, Musical            ', '\\nDrama, Romance            ', '\\nAction, Comedy, Drama            ', '\\nComedy, Drama, Fantasy            ', '\\nAction, Drama, Thriller            ']\n",
      "['\\nAction, Drama            ', '\\nAction, Drama, Romance            ', '\\nAction, Crime, Drama            ', '\\nAction, Comedy, Drama            ', '\\nAction, Crime, Drama            ', '\\nDrama, Romance            ', '\\nAction, Drama            ', '\\nComedy, Drama, Musical            ', '\\nDrama, Romance, Thriller            ', '\\nDrama, Romance            ', '\\nDrama, Mystery, Romance            ', '\\nAction, Drama, Romance            ', '\\nAction, Crime, Drama            ', '\\nAction, Drama            ', '\\nAction, Drama, Musical            ', '\\nDrama, Romance            ', '\\nAction, Comedy, Drama            ', '\\nComedy, Drama, Fantasy            ', '\\nAction, Drama, Thriller            ', '\\nAction, Romance, Thriller            ']\n",
      "['\\nAction, Drama            ', '\\nAction, Drama, Romance            ', '\\nAction, Crime, Drama            ', '\\nAction, Comedy, Drama            ', '\\nAction, Crime, Drama            ', '\\nDrama, Romance            ', '\\nAction, Drama            ', '\\nComedy, Drama, Musical            ', '\\nDrama, Romance, Thriller            ', '\\nDrama, Romance            ', '\\nDrama, Mystery, Romance            ', '\\nAction, Drama, Romance            ', '\\nAction, Crime, Drama            ', '\\nAction, Drama            ', '\\nAction, Drama, Musical            ', '\\nDrama, Romance            ', '\\nAction, Comedy, Drama            ', '\\nComedy, Drama, Fantasy            ', '\\nAction, Drama, Thriller            ', '\\nAction, Romance, Thriller            ', '\\nDrama            ']\n",
      "['\\nAction, Drama            ', '\\nAction, Drama, Romance            ', '\\nAction, Crime, Drama            ', '\\nAction, Comedy, Drama            ', '\\nAction, Crime, Drama            ', '\\nDrama, Romance            ', '\\nAction, Drama            ', '\\nComedy, Drama, Musical            ', '\\nDrama, Romance, Thriller            ', '\\nDrama, Romance            ', '\\nDrama, Mystery, Romance            ', '\\nAction, Drama, Romance            ', '\\nAction, Crime, Drama            ', '\\nAction, Drama            ', '\\nAction, Drama, Musical            ', '\\nDrama, Romance            ', '\\nAction, Comedy, Drama            ', '\\nComedy, Drama, Fantasy            ', '\\nAction, Drama, Thriller            ', '\\nAction, Romance, Thriller            ', '\\nDrama            ', '\\nAction, Comedy            ']\n",
      "['\\nAction, Drama            ', '\\nAction, Drama, Romance            ', '\\nAction, Crime, Drama            ', '\\nAction, Comedy, Drama            ', '\\nAction, Crime, Drama            ', '\\nDrama, Romance            ', '\\nAction, Drama            ', '\\nComedy, Drama, Musical            ', '\\nDrama, Romance, Thriller            ', '\\nDrama, Romance            ', '\\nDrama, Mystery, Romance            ', '\\nAction, Drama, Romance            ', '\\nAction, Crime, Drama            ', '\\nAction, Drama            ', '\\nAction, Drama, Musical            ', '\\nDrama, Romance            ', '\\nAction, Comedy, Drama            ', '\\nComedy, Drama, Fantasy            ', '\\nAction, Drama, Thriller            ', '\\nAction, Romance, Thriller            ', '\\nDrama            ', '\\nAction, Comedy            ', '\\nAction, Drama            ']\n",
      "['\\nAction, Drama            ', '\\nAction, Drama, Romance            ', '\\nAction, Crime, Drama            ', '\\nAction, Comedy, Drama            ', '\\nAction, Crime, Drama            ', '\\nDrama, Romance            ', '\\nAction, Drama            ', '\\nComedy, Drama, Musical            ', '\\nDrama, Romance, Thriller            ', '\\nDrama, Romance            ', '\\nDrama, Mystery, Romance            ', '\\nAction, Drama, Romance            ', '\\nAction, Crime, Drama            ', '\\nAction, Drama            ', '\\nAction, Drama, Musical            ', '\\nDrama, Romance            ', '\\nAction, Comedy, Drama            ', '\\nComedy, Drama, Fantasy            ', '\\nAction, Drama, Thriller            ', '\\nAction, Romance, Thriller            ', '\\nDrama            ', '\\nAction, Comedy            ', '\\nAction, Drama            ', '\\nAction, Drama, Romance            ']\n",
      "['\\nAction, Drama            ', '\\nAction, Drama, Romance            ', '\\nAction, Crime, Drama            ', '\\nAction, Comedy, Drama            ', '\\nAction, Crime, Drama            ', '\\nDrama, Romance            ', '\\nAction, Drama            ', '\\nComedy, Drama, Musical            ', '\\nDrama, Romance, Thriller            ', '\\nDrama, Romance            ', '\\nDrama, Mystery, Romance            ', '\\nAction, Drama, Romance            ', '\\nAction, Crime, Drama            ', '\\nAction, Drama            ', '\\nAction, Drama, Musical            ', '\\nDrama, Romance            ', '\\nAction, Comedy, Drama            ', '\\nComedy, Drama, Fantasy            ', '\\nAction, Drama, Thriller            ', '\\nAction, Romance, Thriller            ', '\\nDrama            ', '\\nAction, Comedy            ', '\\nAction, Drama            ', '\\nAction, Drama, Romance            ', '\\nAction, Comedy            ']\n"
     ]
    }
   ],
   "source": [
    "genre=[]\n",
    "for i in range(len(term)):\n",
    "    genre.append(term[i].text) \n",
    "    print(genre)\n",
    "    "
   ]
  },
  {
   "cell_type": "code",
   "execution_count": 17,
   "id": "c5e36d3c",
   "metadata": {},
   "outputs": [],
   "source": [
    "data = []\n",
    "for i in range(len(Name)):\n",
    "    data.append({'Name' : Name[i],'Year':Year[i],'Runtime': runtime[i],'Rating': rating[i],'Genre': genre[i]})\n",
    "    "
   ]
  },
  {
   "cell_type": "code",
   "execution_count": 18,
   "id": "c7634864",
   "metadata": {},
   "outputs": [
    {
     "data": {
      "text/plain": [
       "[{'Name': 'Asuran',\n",
       "  'Year': '(2019)',\n",
       "  'Runtime': '141 min',\n",
       "  'Rating': '8.4',\n",
       "  'Genre': '\\nAction, Drama            '},\n",
       " {'Name': 'Aadukalam',\n",
       "  'Year': '(2011)',\n",
       "  'Runtime': '160 min',\n",
       "  'Rating': '8.1',\n",
       "  'Genre': '\\nAction, Drama, Romance            '},\n",
       " {'Name': 'Vada Chennai',\n",
       "  'Year': '(2018)',\n",
       "  'Runtime': '164 min',\n",
       "  'Rating': '8.4',\n",
       "  'Genre': '\\nAction, Crime, Drama            '},\n",
       " {'Name': 'Velaiilla Pattadhari',\n",
       "  'Year': '(2014)',\n",
       "  'Runtime': '133 min',\n",
       "  'Rating': '7.8',\n",
       "  'Genre': '\\nAction, Comedy, Drama            '},\n",
       " {'Name': 'Pudhu Pettai',\n",
       "  'Year': '(2006)',\n",
       "  'Runtime': '168 min',\n",
       "  'Rating': '8.5',\n",
       "  'Genre': '\\nAction, Crime, Drama            '},\n",
       " {'Name': 'Raanjhanaa',\n",
       "  'Year': '(2013)',\n",
       "  'Runtime': '140 min',\n",
       "  'Rating': '7.6',\n",
       "  'Genre': '\\nDrama, Romance            '},\n",
       " {'Name': 'Karnan',\n",
       "  'Year': '(2021)',\n",
       "  'Runtime': '158 min',\n",
       "  'Rating': '8',\n",
       "  'Genre': '\\nAction, Drama            '},\n",
       " {'Name': 'Thiruchitrambalam',\n",
       "  'Year': '(2022)',\n",
       "  'Runtime': '131 min',\n",
       "  'Rating': '7.9',\n",
       "  'Genre': '\\nComedy, Drama, Musical            '},\n",
       " {'Name': 'Kaadhal Konden',\n",
       "  'Year': '(2003)',\n",
       "  'Runtime': '150 min',\n",
       "  'Rating': '8',\n",
       "  'Genre': '\\nDrama, Romance, Thriller            '},\n",
       " {'Name': 'Mayakkam Enna',\n",
       "  'Year': '(2011)',\n",
       "  'Runtime': '145 min',\n",
       "  'Rating': '7.7',\n",
       "  'Genre': '\\nDrama, Romance            '},\n",
       " {'Name': '3',\n",
       "  'Year': '(I) (2012)',\n",
       "  'Runtime': '145 min',\n",
       "  'Rating': '7.4',\n",
       "  'Genre': '\\nDrama, Mystery, Romance            '},\n",
       " {'Name': 'Maryan',\n",
       "  'Year': '(2013)',\n",
       "  'Runtime': '150 min',\n",
       "  'Rating': '7.1',\n",
       "  'Genre': '\\nAction, Drama, Romance            '},\n",
       " {'Name': 'Polladhavan',\n",
       "  'Year': '(2007)',\n",
       "  'Runtime': '150 min',\n",
       "  'Rating': '7.7',\n",
       "  'Genre': '\\nAction, Crime, Drama            '},\n",
       " {'Name': 'Vaathi',\n",
       "  'Year': '(2023)',\n",
       "  'Runtime': '139 min',\n",
       "  'Rating': '7.3',\n",
       "  'Genre': '\\nAction, Drama            '},\n",
       " {'Name': 'Power Paandi',\n",
       "  'Year': '(2017)',\n",
       "  'Runtime': '130 min',\n",
       "  'Rating': '7.4',\n",
       "  'Genre': '\\nAction, Drama, Musical            '},\n",
       " {'Name': 'Yaaradi Nee Mohini',\n",
       "  'Year': '(2008)',\n",
       "  'Runtime': '174 min',\n",
       "  'Rating': '7.3',\n",
       "  'Genre': '\\nDrama, Romance            '},\n",
       " {'Name': 'Maari',\n",
       "  'Year': '(2015)',\n",
       "  'Runtime': '138 min',\n",
       "  'Rating': '6.3',\n",
       "  'Genre': '\\nAction, Comedy, Drama            '},\n",
       " {'Name': 'Atrangi Re',\n",
       "  'Year': '(2021)',\n",
       "  'Runtime': '138 min',\n",
       "  'Rating': '6.5',\n",
       "  'Genre': '\\nComedy, Drama, Fantasy            '},\n",
       " {'Name': 'Kodi',\n",
       "  'Year': '(2016)',\n",
       "  'Runtime': '145 min',\n",
       "  'Rating': '6.7',\n",
       "  'Genre': '\\nAction, Drama, Thriller            '},\n",
       " {'Name': 'Anegan',\n",
       "  'Year': '(2015)',\n",
       "  'Runtime': '154 min',\n",
       "  'Rating': '6.7',\n",
       "  'Genre': '\\nAction, Romance, Thriller            '},\n",
       " {'Name': 'Shamitabh',\n",
       "  'Year': '(2015)',\n",
       "  'Runtime': '155 min',\n",
       "  'Rating': '6.7',\n",
       "  'Genre': '\\nDrama            '},\n",
       " {'Name': 'Maari 2',\n",
       "  'Year': '(2018)',\n",
       "  'Runtime': '143 min',\n",
       "  'Rating': '5.6',\n",
       "  'Genre': '\\nAction, Comedy            '},\n",
       " {'Name': 'Pattas',\n",
       "  'Year': '(2020)',\n",
       "  'Runtime': '141 min',\n",
       "  'Rating': '5.6',\n",
       "  'Genre': '\\nAction, Drama            '},\n",
       " {'Name': 'Thanga Magan',\n",
       "  'Year': '(2015)',\n",
       "  'Runtime': '122 min',\n",
       "  'Rating': '6',\n",
       "  'Genre': '\\nAction, Drama, Romance            '},\n",
       " {'Name': 'Velaiilla Pattadhari 2',\n",
       "  'Year': '(2017)',\n",
       "  'Runtime': '128 min',\n",
       "  'Rating': '5.4',\n",
       "  'Genre': '\\nAction, Comedy            '}]"
      ]
     },
     "execution_count": 18,
     "metadata": {},
     "output_type": "execute_result"
    }
   ],
   "source": [
    "data"
   ]
  },
  {
   "cell_type": "code",
   "execution_count": 19,
   "id": "5db757f9",
   "metadata": {},
   "outputs": [
    {
     "name": "stdout",
     "output_type": "stream",
     "text": [
      "                      Name      Year  Runtime  Rating                    Genre\n",
      "0                   Asuran      2019      141     8.4             Action,Drama\n",
      "1                Aadukalam      2011      160     8.1     Action,Drama,Romance\n",
      "2             Vada Chennai      2018      164     8.4       Action,Crime,Drama\n",
      "3     Velaiilla Pattadhari      2014      133     7.8      Action,Comedy,Drama\n",
      "4             Pudhu Pettai      2006      168     8.5       Action,Crime,Drama\n",
      "5               Raanjhanaa      2013      140     7.6            Drama,Romance\n",
      "6                   Karnan      2021      158     8.0             Action,Drama\n",
      "7        Thiruchitrambalam      2022      131     7.9     Comedy,Drama,Musical\n",
      "8           Kaadhal Konden      2003      150     8.0   Drama,Romance,Thriller\n",
      "9            Mayakkam Enna      2011      145     7.7            Drama,Romance\n",
      "10                       3  I) (2012      145     7.4    Drama,Mystery,Romance\n",
      "11                  Maryan      2013      150     7.1     Action,Drama,Romance\n",
      "12             Polladhavan      2007      150     7.7       Action,Crime,Drama\n",
      "13                  Vaathi      2023      139     7.3             Action,Drama\n",
      "14            Power Paandi      2017      130     7.4     Action,Drama,Musical\n",
      "15      Yaaradi Nee Mohini      2008      174     7.3            Drama,Romance\n",
      "16                   Maari      2015      138     6.3      Action,Comedy,Drama\n",
      "17              Atrangi Re      2021      138     6.5     Comedy,Drama,Fantasy\n",
      "18                    Kodi      2016      145     6.7    Action,Drama,Thriller\n",
      "19                  Anegan      2015      154     6.7  Action,Romance,Thriller\n",
      "20               Shamitabh      2015      155     6.7                    Drama\n",
      "21                 Maari 2      2018      143     5.6            Action,Comedy\n",
      "22                  Pattas      2020      141     5.6             Action,Drama\n",
      "23            Thanga Magan      2015      122     6.0     Action,Drama,Romance\n",
      "24  Velaiilla Pattadhari 2      2017      128     5.4            Action,Comedy\n"
     ]
    }
   ],
   "source": [
    "import pandas as pd\n",
    "\n",
    "data = [{'Name': 'Asuran',\n",
    "  'Year': '(2019)',\n",
    "  'Runtime': '141 min',\n",
    "  'Rating': '8.4',\n",
    "  'Genre': '\\nAction, Drama            '},\n",
    " {'Name': 'Aadukalam',\n",
    "  'Year': '(2011)',\n",
    "  'Runtime': '160 min',\n",
    "  'Rating': '8.1',\n",
    "  'Genre': '\\nAction, Drama, Romance            '},\n",
    " {'Name': 'Vada Chennai',\n",
    "  'Year': '(2018)',\n",
    "  'Runtime': '164 min',\n",
    "  'Rating': '8.4',\n",
    "  'Genre': '\\nAction, Crime, Drama            '},\n",
    " {'Name': 'Velaiilla Pattadhari',\n",
    "  'Year': '(2014)',\n",
    "  'Runtime': '133 min',\n",
    "  'Rating': '7.8',\n",
    "  'Genre': '\\nAction, Comedy, Drama            '},\n",
    " {'Name': 'Pudhu Pettai',\n",
    "  'Year': '(2006)',\n",
    "  'Runtime': '168 min',\n",
    "  'Rating': '8.5',\n",
    "  'Genre': '\\nAction, Crime, Drama            '},\n",
    " {'Name': 'Raanjhanaa',\n",
    "  'Year': '(2013)',\n",
    "  'Runtime': '140 min',\n",
    "  'Rating': '7.6',\n",
    "  'Genre': '\\nDrama, Romance            '},\n",
    " {'Name': 'Karnan',\n",
    "  'Year': '(2021)',\n",
    "  'Runtime': '158 min',\n",
    "  'Rating': '8',\n",
    "  'Genre': '\\nAction, Drama            '},\n",
    " {'Name': 'Thiruchitrambalam',\n",
    "  'Year': '(2022)',\n",
    "  'Runtime': '131 min',\n",
    "  'Rating': '7.9',\n",
    "  'Genre': '\\nComedy, Drama, Musical            '},\n",
    " {'Name': 'Kaadhal Konden',\n",
    "  'Year': '(2003)',\n",
    "  'Runtime': '150 min',\n",
    "  'Rating': '8',\n",
    "  'Genre': '\\nDrama, Romance, Thriller            '},\n",
    " {'Name': 'Mayakkam Enna',\n",
    "  'Year': '(2011)',\n",
    "  'Runtime': '145 min',\n",
    "  'Rating': '7.7',\n",
    "  'Genre': '\\nDrama, Romance            '},\n",
    " {'Name': '3',\n",
    "  'Year': '(I) (2012)',\n",
    "  'Runtime': '145 min',\n",
    "  'Rating': '7.4',\n",
    "  'Genre': '\\nDrama, Mystery, Romance            '},\n",
    " {'Name': 'Maryan',\n",
    "  'Year': '(2013)',\n",
    "  'Runtime': '150 min',\n",
    "  'Rating': '7.1',\n",
    "  'Genre': '\\nAction, Drama, Romance            '},\n",
    " {'Name': 'Polladhavan',\n",
    "  'Year': '(2007)',\n",
    "  'Runtime': '150 min',\n",
    "  'Rating': '7.7',\n",
    "  'Genre': '\\nAction, Crime, Drama            '},\n",
    " {'Name': 'Vaathi',\n",
    "  'Year': '(2023)',\n",
    "  'Runtime': '139 min',\n",
    "  'Rating': '7.3',\n",
    "  'Genre': '\\nAction, Drama            '},\n",
    " {'Name': 'Power Paandi',\n",
    "  'Year': '(2017)',\n",
    "  'Runtime': '130 min',\n",
    "  'Rating': '7.4',\n",
    "  'Genre': '\\nAction, Drama, Musical            '},\n",
    " {'Name': 'Yaaradi Nee Mohini',\n",
    "  'Year': '(2008)',\n",
    "  'Runtime': '174 min',\n",
    "  'Rating': '7.3',\n",
    "  'Genre': '\\nDrama, Romance            '},\n",
    " {'Name': 'Maari',\n",
    "  'Year': '(2015)',\n",
    "  'Runtime': '138 min',\n",
    "  'Rating': '6.3',\n",
    "  'Genre': '\\nAction, Comedy, Drama            '},\n",
    " {'Name': 'Atrangi Re',\n",
    "  'Year': '(2021)',\n",
    "  'Runtime': '138 min',\n",
    "  'Rating': '6.5',\n",
    "  'Genre': '\\nComedy, Drama, Fantasy            '},\n",
    " {'Name': 'Kodi',\n",
    "  'Year': '(2016)',\n",
    "  'Runtime': '145 min',\n",
    "  'Rating': '6.7',\n",
    "  'Genre': '\\nAction, Drama, Thriller            '},\n",
    " {'Name': 'Anegan',\n",
    "  'Year': '(2015)',\n",
    "  'Runtime': '154 min',\n",
    "  'Rating': '6.7',\n",
    "  'Genre': '\\nAction, Romance, Thriller            '},\n",
    " {'Name': 'Shamitabh',\n",
    "  'Year': '(2015)',\n",
    "  'Runtime': '155 min',\n",
    "  'Rating': '6.7',\n",
    "  'Genre': '\\nDrama            '},\n",
    " {'Name': 'Maari 2',\n",
    "  'Year': '(2018)',\n",
    "  'Runtime': '143 min',\n",
    "  'Rating': '5.6',\n",
    "  'Genre': '\\nAction, Comedy            '},\n",
    " {'Name': 'Pattas',\n",
    "  'Year': '(2020)',\n",
    "  'Runtime': '141 min',\n",
    "  'Rating': '5.6',\n",
    "  'Genre': '\\nAction, Drama            '},\n",
    " {'Name': 'Thanga Magan',\n",
    "  'Year': '(2015)',\n",
    "  'Runtime': '122 min',\n",
    "  'Rating': '6',\n",
    "  'Genre': '\\nAction, Drama, Romance            '},\n",
    " {'Name': 'Velaiilla Pattadhari 2',\n",
    "  'Year': '(2017)',\n",
    "  'Runtime': '128 min',\n",
    "  'Rating': '5.4',\n",
    "  'Genre': '\\nAction, Comedy            '}\n",
    "]\n",
    "\n",
    "df = pd.DataFrame(data)\n",
    "\n",
    "# Clean up and transform the data\n",
    "df['Year'] = df['Year'].str.strip('()')  # Remove parentheses from the year\n",
    "df['Runtime'] = df['Runtime'].str.replace(' min', '').astype(int)  # Remove 'min' and convert to int\n",
    "df['Rating'] = df['Rating'].astype(float)  # Convert rating to float\n",
    "\n",
    "# Split the 'Genre' column into separate genres\n",
    "df['Genres'] = df['Genre'].str.split(', ')\n",
    "df['Genre'] = df['Genre'].str.replace(', ', ',').str.strip()\n",
    "\n",
    "# Drop the unnecessary 'Genres' column\n",
    "df.drop(columns=['Genres'], inplace=True)\n",
    "\n",
    "print(df)\n"
   ]
  },
  {
   "cell_type": "code",
   "execution_count": 20,
   "id": "c7ab287f",
   "metadata": {},
   "outputs": [],
   "source": [
    "import numpy as np\n",
    "import pandas as pd\n",
    "import matplotlib.pyplot as plt\n",
    "import seaborn as sns\n",
    "\n",
    "\n"
   ]
  },
  {
   "cell_type": "code",
   "execution_count": 21,
   "id": "cd7d1f4f",
   "metadata": {},
   "outputs": [
    {
     "data": {
      "image/png": "[encoded data removed]",
      "text/plain": [
       "<Figure size 640x480 with 1 Axes>"
      ]
     },
     "metadata": {},
     "output_type": "display_data"
    }
   ],
   "source": [
    "plt.title(\"Genres\")\n",
    "sns.countplot(y = df[\"Genre\"])\n",
    "plt.xlabel(\"Count\")\n",
    "plt.ylabel(\"Genres\")\n",
    "plt.show()"
   ]
  },
  {
   "cell_type": "code",
   "execution_count": 24,
   "id": "f92f2cdc",
   "metadata": {},
   "outputs": [],
   "source": [
    "import seaborn as sns\n",
    "import warnings as wg\n"
   ]
  },
  {
   "cell_type": "code",
   "execution_count": 25,
   "id": "b1d45b67",
   "metadata": {},
   "outputs": [
    {
     "name": "stderr",
     "output_type": "stream",
     "text": [
      "C:\\Users\\Sanju\\AppData\\Local\\Temp\\ipykernel_15108\\3521945908.py:2: UserWarning: \n",
      "\n",
      "`distplot` is a deprecated function and will be removed in seaborn v0.14.0.\n",
      "\n",
      "Please adapt your code to use either `displot` (a figure-level function with\n",
      "similar flexibility) or `histplot` (an axes-level function for histograms).\n",
      "\n",
      "For a guide to updating your code to use the new functions, please see\n",
      "https://gist.github.com/mwaskom/de44147ed2974457ad6372750bbe5751\n",
      "\n",
      "  sns.distplot(df[\"Runtime\"])\n"
     ]
    },
    {
     "data": {
      "image/png": "[encoded data removed]",
      "text/plain": [
       "<Figure size 640x480 with 1 Axes>"
      ]
     },
     "metadata": {},
     "output_type": "display_data"
    }
   ],
   "source": [
    "plt.title(\"Runtime distribution\")\n",
    "sns.distplot(df[\"Runtime\"])\n",
    "plt.xlabel(\"Runtime\")\n",
    "plt.show()"
   ]
  },
  {
   "cell_type": "code",
   "execution_count": 26,
   "id": "9a577a6b",
   "metadata": {},
   "outputs": [
    {
     "data": {
      "image/png": "[encoded data removed]",
      "text/plain": [
       "<Figure size 640x480 with 1 Axes>"
      ]
     },
     "metadata": {},
     "output_type": "display_data"
    }
   ],
   "source": [
    "plt.title(\"Year\")\n",
    "sns.countplot(y = df[\"Year\"])\n",
    "plt.xlabel(\"Count\")\n",
    "plt.ylabel(\"Year\")\n",
    "plt.show()"
   ]
  },
  {
   "cell_type": "code",
   "execution_count": 27,
   "id": "61a33848",
   "metadata": {},
   "outputs": [
    {
     "data": {
      "text/plain": [
       "Name        object\n",
       "Year        object\n",
       "Runtime      int32\n",
       "Rating     float64\n",
       "Genre       object\n",
       "dtype: object"
      ]
     },
     "execution_count": 27,
     "metadata": {},
     "output_type": "execute_result"
    }
   ],
   "source": [
    "df.dtypes"
   ]
  },
  {
   "cell_type": "code",
   "execution_count": 28,
   "id": "d3496de5",
   "metadata": {
    "scrolled": true
   },
   "outputs": [
    {
     "name": "stdout",
     "output_type": "stream",
     "text": [
      "length of unique values in Name 25\n",
      "some of the unique values in Name ['Yaaradi Nee Mohini', 'Karnan', 'Velaiilla Pattadhari', 'Maari 2', 'Mayakkam Enna']\n",
      "---------------------------------------------------------\n",
      "length of unique values in Year 17\n",
      "some of the unique values in Year ['2021', '2017', '2023', '2007', '2019']\n",
      "---------------------------------------------------------\n",
      "length of unique values in Runtime 19\n",
      "some of the unique values in Runtime [128, 130, 131, 133, 138]\n",
      "---------------------------------------------------------\n",
      "length of unique values in Rating 17\n",
      "some of the unique values in Rating [7.3, 5.6, 6.3, 7.6, 8.4]\n",
      "---------------------------------------------------------\n",
      "length of unique values in Genre 14\n",
      "some of the unique values in Genre ['Drama,Romance', 'Drama', 'Comedy,Drama,Musical', 'Action,Drama', 'Comedy,Drama,Fantasy']\n",
      "---------------------------------------------------------\n"
     ]
    }
   ],
   "source": [
    "for i in df.columns:\n",
    "    print(f'length of unique values in {i}',len(set(df[i])))\n",
    "    print(f'some of the unique values in {i}',list(set(df[i]))[0:5])\n",
    "    print('---------------------------------------------------------')"
   ]
  },
  {
   "cell_type": "code",
   "execution_count": 30,
   "id": "c76a17dd",
   "metadata": {},
   "outputs": [
    {
     "name": "stdout",
     "output_type": "stream",
     "text": [
      "Total sum of ratings: 180.09999999999997\n"
     ]
    }
   ],
   "source": [
    "data = [{'Name': 'Asuran',\n",
    "  'Year': '(2019)',\n",
    "  'Runtime': '141 min',\n",
    "  'Rating': '8.4',\n",
    "  'Genre': '\\nAction, Drama            '},\n",
    " {'Name': 'Aadukalam',\n",
    "  'Year': '(2011)',\n",
    "  'Runtime': '160 min',\n",
    "  'Rating': '8.1',\n",
    "  'Genre': '\\nAction, Drama, Romance            '},\n",
    " {'Name': 'Vada Chennai',\n",
    "  'Year': '(2018)',\n",
    "  'Runtime': '164 min',\n",
    "  'Rating': '8.4',\n",
    "  'Genre': '\\nAction, Crime, Drama            '},\n",
    " {'Name': 'Velaiilla Pattadhari',\n",
    "  'Year': '(2014)',\n",
    "  'Runtime': '133 min',\n",
    "  'Rating': '7.8',\n",
    "  'Genre': '\\nAction, Comedy, Drama            '},\n",
    " {'Name': 'Pudhu Pettai',\n",
    "  'Year': '(2006)',\n",
    "  'Runtime': '168 min',\n",
    "  'Rating': '8.5',\n",
    "  'Genre': '\\nAction, Crime, Drama            '},\n",
    " {'Name': 'Raanjhanaa',\n",
    "  'Year': '(2013)',\n",
    "  'Runtime': '140 min',\n",
    "  'Rating': '7.6',\n",
    "  'Genre': '\\nDrama, Romance            '},\n",
    " {'Name': 'Karnan',\n",
    "  'Year': '(2021)',\n",
    "  'Runtime': '158 min',\n",
    "  'Rating': '8',\n",
    "  'Genre': '\\nAction, Drama            '},\n",
    " {'Name': 'Thiruchitrambalam',\n",
    "  'Year': '(2022)',\n",
    "  'Runtime': '131 min',\n",
    "  'Rating': '7.9',\n",
    "  'Genre': '\\nComedy, Drama, Musical            '},\n",
    " {'Name': 'Kaadhal Konden',\n",
    "  'Year': '(2003)',\n",
    "  'Runtime': '150 min',\n",
    "  'Rating': '8',\n",
    "  'Genre': '\\nDrama, Romance, Thriller            '},\n",
    " {'Name': 'Mayakkam Enna',\n",
    "  'Year': '(2011)',\n",
    "  'Runtime': '145 min',\n",
    "  'Rating': '7.7',\n",
    "  'Genre': '\\nDrama, Romance            '},\n",
    " {'Name': '3',\n",
    "  'Year': '(I) (2012)',\n",
    "  'Runtime': '145 min',\n",
    "  'Rating': '7.4',\n",
    "  'Genre': '\\nDrama, Mystery, Romance            '},\n",
    " {'Name': 'Maryan',\n",
    "  'Year': '(2013)',\n",
    "  'Runtime': '150 min',\n",
    "  'Rating': '7.1',\n",
    "  'Genre': '\\nAction, Drama, Romance            '},\n",
    " {'Name': 'Polladhavan',\n",
    "  'Year': '(2007)',\n",
    "  'Runtime': '150 min',\n",
    "  'Rating': '7.7',\n",
    "  'Genre': '\\nAction, Crime, Drama            '},\n",
    " {'Name': 'Vaathi',\n",
    "  'Year': '(2023)',\n",
    "  'Runtime': '139 min',\n",
    "  'Rating': '7.3',\n",
    "  'Genre': '\\nAction, Drama            '},\n",
    " {'Name': 'Power Paandi',\n",
    "  'Year': '(2017)',\n",
    "  'Runtime': '130 min',\n",
    "  'Rating': '7.4',\n",
    "  'Genre': '\\nAction, Drama, Musical            '},\n",
    " {'Name': 'Yaaradi Nee Mohini',\n",
    "  'Year': '(2008)',\n",
    "  'Runtime': '174 min',\n",
    "  'Rating': '7.3',\n",
    "  'Genre': '\\nDrama, Romance            '},\n",
    " {'Name': 'Maari',\n",
    "  'Year': '(2015)',\n",
    "  'Runtime': '138 min',\n",
    "  'Rating': '6.3',\n",
    "  'Genre': '\\nAction, Comedy, Drama            '},\n",
    " {'Name': 'Atrangi Re',\n",
    "  'Year': '(2021)',\n",
    "  'Runtime': '138 min',\n",
    "  'Rating': '6.5',\n",
    "  'Genre': '\\nComedy, Drama, Fantasy            '},\n",
    " {'Name': 'Kodi',\n",
    "  'Year': '(2016)',\n",
    "  'Runtime': '145 min',\n",
    "  'Rating': '6.7',\n",
    "  'Genre': '\\nAction, Drama, Thriller            '},\n",
    " {'Name': 'Anegan',\n",
    "  'Year': '(2015)',\n",
    "  'Runtime': '154 min',\n",
    "  'Rating': '6.7',\n",
    "  'Genre': '\\nAction, Romance, Thriller            '},\n",
    " {'Name': 'Shamitabh',\n",
    "  'Year': '(2015)',\n",
    "  'Runtime': '155 min',\n",
    "  'Rating': '6.7',\n",
    "  'Genre': '\\nDrama            '},\n",
    " {'Name': 'Maari 2',\n",
    "  'Year': '(2018)',\n",
    "  'Runtime': '143 min',\n",
    "  'Rating': '5.6',\n",
    "  'Genre': '\\nAction, Comedy            '},\n",
    " {'Name': 'Pattas',\n",
    "  'Year': '(2020)',\n",
    "  'Runtime': '141 min',\n",
    "  'Rating': '5.6',\n",
    "  'Genre': '\\nAction, Drama            '},\n",
    " {'Name': 'Thanga Magan',\n",
    "  'Year': '(2015)',\n",
    "  'Runtime': '122 min',\n",
    "  'Rating': '6',\n",
    "  'Genre': '\\nAction, Drama, Romance            '},\n",
    " {'Name': 'Velaiilla Pattadhari 2',\n",
    "  'Year': '(2017)',\n",
    "  'Runtime': '128 min',\n",
    "  'Rating': '5.4',\n",
    "  'Genre': '\\nAction, Comedy            '}\n",
    "]\n",
    "total_rating = sum(float(movie[\"Rating\"]) for movie in data)\n",
    "print(\"Total sum of ratings:\", total_rating)"
   ]
  },
  {
   "cell_type": "code",
   "execution_count": 32,
   "id": "6919da2b",
   "metadata": {},
   "outputs": [
    {
     "name": "stdout",
     "output_type": "stream",
     "text": [
      "['Asuran', 2019, 141, 8.4, 'Action,Drama']\n",
      "['Aadukalam', 2011, 160, 8.1, 'Action,Drama,Romance']\n",
      "['Vada Chennai', 2018, 164, 8.4, 'Action,Crime,Drama']\n",
      "['Velaiilla Pattadhari', 2014, 133, 7.8, 'Action,Comedy,Drama']\n",
      "['Pudhu Pettai', 2006, 168, 8.5, 'Action,Crime,Drama']\n",
      "['Raanjhanaa', 2013, 140, 7.6, 'Drama,Romance']\n",
      "['Karnan', 2021, 158, 8.0, 'Action,Drama']\n",
      "['Thiruchitrambalam', 2022, 131, 7.9, 'Comedy,Drama,Musical']\n",
      "['Kaadhal Konden', 2003, 150, 8.0, 'Drama,Romance,Thriller']\n",
      "['Mayakkam Enna', 2011, 145, 7.7, 'Drama,Romance']\n",
      "['3 (2012)', 2012, 145, 7.4, 'Drama,Mystery,Romance']\n",
      "['Maryan', 2013, 150, 7.1, 'Action,Drama,Romance']\n",
      "['Polladhavan', 2007, 150, 7.7, 'Action,Crime,Drama']\n",
      "['Vaathi', 2023, 139, 7.3, 'Action,Drama']\n",
      "['Power Paandi', 2017, 130, 7.4, 'Action,Drama,Musical']\n",
      "['Yaaradi Nee Mohini', 2008, 174, 7.3, 'Drama,Romance']\n",
      "['Maari', 2015, 138, 6.3, 'Action,Comedy,Drama']\n",
      "['Atrangi Re', 2021, 138, 6.5, 'Comedy,Drama,Fantasy']\n",
      "['Kodi', 2016, 145, 6.7, 'Action,Drama,Thriller']\n",
      "['Anegan', 2015, 154, 6.7, 'Action,Romance,Thriller']\n",
      "['Shamitabh', 2015, 155, 6.7, 'Drama']\n",
      "['Maari 2', 2018, 143, 5.6, 'Action,Comedy']\n",
      "['Pattas', 2020, 141, 5.6, 'Action,Drama']\n",
      "['Thanga Magan', 2015, 122, 6.0, 'Action,Drama,Romance']\n",
      "['Velaiilla Pattadhari 2', 2017, 128, 5.4, 'Action,Comedy']\n",
      "Action count: 17\n",
      "Drama count: 22\n",
      "Crime count: 3\n",
      "Romance count: 9\n"
     ]
    }
   ],
   "source": [
    "import pandas as pd\n",
    "\n",
    "# Create a DataFrame with the given data\n",
    "data = [\n",
    "    [\"Asuran\", 2019, 141, 8.4, \"Action,Drama\"],\n",
    "    [\"Aadukalam\", 2011, 160, 8.1, \"Action,Drama,Romance\"],\n",
    "    [\"Vada Chennai\", 2018, 164, 8.4, \"Action,Crime,Drama\"],\n",
    "    [\"Velaiilla Pattadhari\", 2014, 133, 7.8, \"Action,Comedy,Drama\"],\n",
    "    [\"Pudhu Pettai\", 2006, 168, 8.5, \"Action,Crime,Drama\"],\n",
    "    [\"Raanjhanaa\", 2013, 140, 7.6, \"Drama,Romance\"],\n",
    "    [\"Karnan\", 2021, 158, 8.0, \"Action,Drama\"],\n",
    "    [\"Thiruchitrambalam\", 2022, 131, 7.9, \"Comedy,Drama,Musical\"],\n",
    "    [\"Kaadhal Konden\", 2003, 150, 8.0, \"Drama,Romance,Thriller\"],\n",
    "    [\"Mayakkam Enna\", 2011, 145, 7.7, \"Drama,Romance\"],\n",
    "    [\"3 (2012)\", 2012, 145, 7.4, \"Drama,Mystery,Romance\"],\n",
    "    [\"Maryan\", 2013, 150, 7.1, \"Action,Drama,Romance\"],\n",
    "    [\"Polladhavan\", 2007, 150, 7.7, \"Action,Crime,Drama\"],\n",
    "    [\"Vaathi\", 2023, 139, 7.3, \"Action,Drama\"],\n",
    "    [\"Power Paandi\", 2017, 130, 7.4, \"Action,Drama,Musical\"],\n",
    "    [\"Yaaradi Nee Mohini\", 2008, 174, 7.3, \"Drama,Romance\"],\n",
    "    [\"Maari\", 2015, 138, 6.3, \"Action,Comedy,Drama\"],\n",
    "    [\"Atrangi Re\", 2021, 138, 6.5, \"Comedy,Drama,Fantasy\"],\n",
    "    [\"Kodi\", 2016, 145, 6.7, \"Action,Drama,Thriller\"],\n",
    "    [\"Anegan\", 2015, 154, 6.7, \"Action,Romance,Thriller\"],\n",
    "    [\"Shamitabh\", 2015, 155, 6.7, \"Drama\"],\n",
    "    [\"Maari 2\", 2018, 143, 5.6, \"Action,Comedy\"],\n",
    "    [\"Pattas\", 2020, 141, 5.6, \"Action,Drama\"],\n",
    "    [\"Thanga Magan\", 2015, 122, 6.0, \"Action,Drama,Romance\"],\n",
    "    [\"Velaiilla Pattadhari 2\", 2017, 128, 5.4, \"Action,Comedy\"]\n",
    "]\n",
    "\n",
    "# Print the list of lists\n",
    "for row in data:\n",
    "    print(row)\n",
    "\n",
    "\n",
    "\n",
    "columns = [\"Name\", \"Year\", \"Runtime\", \"Rating\", \"Genre\"]\n",
    "df = pd.DataFrame(data, columns=columns)\n",
    "\n",
    "# Initialize genre counters\n",
    "action_count = 0\n",
    "drama_count = 0\n",
    "crime_count = 0\n",
    "romance_count = 0\n",
    "\n",
    "# Iterate through each row in the DataFrame\n",
    "for index, row in df.iterrows():\n",
    "    genres = row[\"Genre\"].split(',')\n",
    "    if \"Action\" in genres:\n",
    "        action_count += 1\n",
    "    if \"Drama\" in genres:\n",
    "        drama_count += 1\n",
    "    if \"Crime\" in genres:\n",
    "        crime_count += 1\n",
    "    if \"Romance\" in genres:\n",
    "        romance_count += 1\n",
    "\n",
    "# Print the genre counts\n",
    "print(\"Action count:\", action_count)\n",
    "print(\"Drama count:\", drama_count)\n",
    "print(\"Crime count:\", crime_count)\n",
    "print(\"Romance count:\", romance_count)\n"
   ]
  },
  {
   "cell_type": "code",
   "execution_count": 33,
   "id": "9ee762a8",
   "metadata": {},
   "outputs": [
    {
     "data": {
      "image/png": "[encoded data removed]",
      "text/plain": [
       "<Figure size 800x600 with 1 Axes>"
      ]
     },
     "metadata": {},
     "output_type": "display_data"
    }
   ],
   "source": [
    "import matplotlib.pyplot as plt\n",
    "\n",
    "# Genre names\n",
    "genres = ['Action', 'Drama', 'Crime', 'Romance']\n",
    "\n",
    "# Genre counts\n",
    "genre_counts = [17, 22, 3, 9]\n",
    "\n",
    "# Create a pie chart\n",
    "plt.figure(figsize=(8, 6))\n",
    "plt.pie(genre_counts, labels=genres, autopct='%1.1f%%', startangle=140, colors=['blue', 'orange', 'green', 'red'])\n",
    "plt.title('Genre Distribution of Movies')\n",
    "plt.axis('equal')  # Equal aspect ratio ensures the pie chart is circular.\n",
    "\n",
    "# Display the pie chart\n",
    "plt.show()\n"
   ]
  }
 ],
 "metadata": {
  "kernelspec": {
   "display_name": "Python 3 (ipykernel)",
   "language": "python",
   "name": "python3"
  },
  "language_info": {
   "codemirror_mode": {
    "name": "ipython",
    "version": 3
   },
   "file_extension": ".py",
   "mimetype": "text/x-python",
   "name": "python",
   "nbconvert_exporter": "python",
   "pygments_lexer": "ipython3",
   "version": "3.10.9"
  }
 },
 "nbformat": 4,
 "nbformat_minor": 5
}
